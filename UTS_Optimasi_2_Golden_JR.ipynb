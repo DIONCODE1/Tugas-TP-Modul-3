{
  "nbformat": 4,
  "nbformat_minor": 0,
  "metadata": {
    "colab": {
      "provenance": [],
      "include_colab_link": true
    },
    "kernelspec": {
      "name": "python3",
      "display_name": "Python 3"
    },
    "language_info": {
      "name": "python"
    }
  },
  "cells": [
    {
      "cell_type": "markdown",
      "metadata": {
        "id": "view-in-github",
        "colab_type": "text"
      },
      "source": [
        "<a href=\"https://colab.research.google.com/github/DIONCODE1/Tugas-TP-Modul-3/blob/main/UTS_Optimasi_2_Golden_JR.ipynb\" target=\"_parent\"><img src=\"https://colab.research.google.com/assets/colab-badge.svg\" alt=\"Open In Colab\"/></a>"
      ]
    },
    {
      "cell_type": "code",
      "execution_count": null,
      "metadata": {
        "colab": {
          "base_uri": "https://localhost:8080/"
        },
        "id": "TR-mFBpMDyOX",
        "outputId": "9e8cbac3-388b-4948-9437-4af7fe310fe4"
      },
      "outputs": [
        {
          "output_type": "stream",
          "name": "stdout",
          "text": [
            "Iter       x                    f(x)                 f'(x)                f''(x)              \n",
            "1          2.6971830986         -3.6344017821        -0.5013833945        2.5427300721        \n",
            "2          2.7245993882         -3.6351627108        -0.0548848872        2.0019079128        \n",
            "3          2.7250826346         -3.6351629367        -0.0009346034        1.9340101365        \n",
            "4          2.7250827824         -3.6351629367        -0.0000002856        1.9328284140        \n",
            "5          2.7250827824         -3.6351629367        -0.0000000000        1.9328280528        \n",
            "Converged\n"
          ]
        }
      ],
      "source": [
        "# JR / 21078\n",
        "\n",
        "import numpy as np\n",
        "\n",
        "def my_func(x):\n",
        "    \"\"\"Fungsi: f(x) = (20 - 18 * x + 2 * x^2) * e^(-x/2).\"\"\"\n",
        "    return (20 - 18 * x + 2 * x**2) * np.exp(-x / 2)\n",
        "\n",
        "def d1_my_func(x):\n",
        "    \"\"\"Turunan pertama dari fungsi f(x).\"\"\"\n",
        "    return (-18 + 4 * x) * np.exp(-x / 2) + (20 - 18 * x + 2 * x**2) * (-1 / 2) * np.exp(-x / 2)\n",
        "\n",
        "def d2_my_func(x):\n",
        "    \"\"\"Turunan kedua dari fungsi f(x).\"\"\"\n",
        "    first_derivative = d1_my_func(x)\n",
        "    return (4 * np.exp(-x / 2) + (-18 + 4 * x) * (-1 / 2) * np.exp(-x / 2)) + first_derivative * (-1 / 2)\n",
        "\n",
        "# Inisialisasi titik awal\n",
        "x0 = 2.5\n",
        "fopt_old = np.nan  # Menyimpan nilai fungsi sebelumnya\n",
        "\n",
        "# Cetak header untuk kolom output\n",
        "print(\"{:<10} {:<20} {:<20} {:<20} {:<20}\".format(\"Iter\", \"x\", \"f(x)\", \"f'(x)\", \"f''(x)\"))\n",
        "\n",
        "# Maksimum iterasi\n",
        "NiterMax = 100\n",
        "\n",
        "for iiter in range(1, NiterMax + 1):\n",
        "    # Hitung nilai fungsi, turunan pertama, dan turunan kedua\n",
        "    f0 = my_func(x0)\n",
        "    df0 = d1_my_func(x0)\n",
        "    d2f0 = d2_my_func(x0)\n",
        "\n",
        "    if abs(df0) > np.finfo(np.float64).resolution:  # Jika turunan pertama cukup besar\n",
        "        # Hitung titik baru menggunakan rumus Newton-Raphson\n",
        "        x1 = x0 - df0 / d2f0\n",
        "        f1 = my_func(x1)  # Hitung nilai fungsi di titik baru\n",
        "\n",
        "        # Cetak hasil dengan format kolom\n",
        "        print(\"{:<10} {:<20.10f} {:<20.10f} {:<20.10f} {:<20.10f}\".format(iiter, x1, f1, df0, d2f0))\n",
        "\n",
        "        x0 = x1  # Update x0 untuk iterasi berikutnya\n",
        "        fopt_old = f1  # Update nilai fungsi sebelumnya\n",
        "    else:\n",
        "        print(\"Converged\")  # Cetak pesan jika konvergen\n",
        "        break\n"
      ]
    }
  ]
}